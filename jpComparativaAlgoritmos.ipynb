{
 "cells": [
  {
   "cell_type": "code",
   "execution_count": 1,
   "metadata": {},
   "outputs": [],
   "source": [
    "#   Lmportamos la libreria pandas para la lectura de archivos\n",
    "import pandas as pd\n",
    "\n",
    "#   Libreria para crear figuras en python\n",
    "import matplotlib.pyplot as plt\n",
    "\n",
    "#   libreria que permite dividir un DataSet en dos conjuntos de datos uno para entranamiento y otro para validación\n",
    "from sklearn.model_selection import train_test_split\n",
    "\n",
    "#   Libreria que evalua una puntuacion por validacion cruzada\n",
    "from sklearn.model_selection import cross_val_score\n",
    "\n",
    "#   Libreria que nos permite tomar valores prueba/valor de un conjunto de datos\n",
    "from sklearn.model_selection import StratifiedKFold\n",
    "\n",
    "#   Libreria para el uso de Regresion Logistica\n",
    "from sklearn.linear_model import LogisticRegression\n",
    "\n",
    "#   Libreria para el uso de arboles de decisión\n",
    "from sklearn.tree import DecisionTreeClassifier"
   ]
  },
  {
   "cell_type": "code",
   "execution_count": 2,
   "metadata": {},
   "outputs": [
    {
     "name": "stdout",
     "output_type": "stream",
     "text": [
      "(150, 5)\n"
     ]
    }
   ],
   "source": [
    "#   abrimos el archivo con el DataSet\n",
    "df = pd.read_csv( \"dataset_61_iris.arff\" )\n",
    "\n",
    "#   Muestro un resumen del numero de filas y columnas del archivo\n",
    "print( df.shape )"
   ]
  },
  {
   "cell_type": "code",
   "execution_count": 5,
   "metadata": {},
   "outputs": [],
   "source": [
    "#   Dividimos el dataset en 80% de datos de entrenamiento (training) y 20% para pruebas (test)\n",
    "array = df.values\n",
    "#   Selecciono todas las columnas del DataSet excepto la columna \"class\"\n",
    "x = array[:, 0:4]\n",
    "#   Selecciono solo la columna 4 del DataSet que es la columna \"class\"\n",
    "y = array[:, 4]"
   ]
  },
  {
   "cell_type": "code",
   "execution_count": 39,
   "metadata": {},
   "outputs": [],
   "source": [
    "X_train, X_validation, Y_train, Y_validation = train_test_split( x, y, test_size=0.20, random_state=1, shuffle=True )"
   ]
  },
  {
   "cell_type": "code",
   "execution_count": 56,
   "metadata": {},
   "outputs": [],
   "source": [
    "#   Cargamos los algoritmos\n",
    "models = []\n",
    "\n",
    "models.append( ('LR', LogisticRegression( solver='liblinear', multi_class='ovr' ) ) )\n",
    "models.append( ( 'CART', DecisionTreeClassifier() ) )"
   ]
  },
  {
   "cell_type": "code",
   "execution_count": 57,
   "metadata": {},
   "outputs": [
    {
     "name": "stdout",
     "output_type": "stream",
     "text": [
      "LR: 0.941667 (0.042492)\n",
      "CART: 0.950000 (0.031180)\n"
     ]
    }
   ],
   "source": [
    "#   Evaluamos cada modelo por turnos\n",
    "results = []\n",
    "names = []\n",
    "\n",
    "for name, model in models:\n",
    "    kfold = StratifiedKFold( n_splits = 5, random_state = 1, shuffle = True )\n",
    "    cv_results = cross_val_score( model, X_train, Y_train, cv = kfold, scoring = 'accuracy' )\n",
    "    results.append( cv_results )\n",
    "    names.append(name)\n",
    "    print( '%s: %f (%f)' % ( name, cv_results.mean(), cv_results.std() ) )\n"
   ]
  },
  {
   "cell_type": "code",
   "execution_count": 59,
   "metadata": {},
   "outputs": [
    {
     "data": {
      "image/png": "[encoded data removed]",
      "text/plain": [
       "<Figure size 640x480 with 1 Axes>"
      ]
     },
     "metadata": {},
     "output_type": "display_data"
    }
   ],
   "source": [
    "plt.boxplot( results, labels = names )\n",
    "plt.title( 'Comparacion de algortimos' )\n",
    "plt.show()"
   ]
  }
 ],
 "metadata": {
  "kernelspec": {
   "display_name": "Python 3.10.6 64-bit",
   "language": "python",
   "name": "python3"
  },
  "language_info": {
   "codemirror_mode": {
    "name": "ipython",
    "version": 3
   },
   "file_extension": ".py",
   "mimetype": "text/x-python",
   "name": "python",
   "nbconvert_exporter": "python",
   "pygments_lexer": "ipython3",
   "version": "3.10.6"
  },
  "orig_nbformat": 4,
  "vscode": {
   "interpreter": {
    "hash": "916dbcbb3f70747c44a77c7bcd40155683ae19c65e1c03b4aa3499c5328201f1"
   }
  }
 },
 "nbformat": 4,
 "nbformat_minor": 2
}
