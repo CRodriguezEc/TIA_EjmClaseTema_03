{
 "cells": [
  {
   "cell_type": "code",
   "execution_count": 22,
   "metadata": {},
   "outputs": [],
   "source": [
    "#   Lmportamos la libreria pandas para la lectura de archivos\n",
    "import pandas as pd\n",
    "\n",
    "#   Libreria para crear figuras en python\n",
    "import matplotlib.pyplot as plt\n",
    "import matplotlib.image as pltimg\n",
    "from IPython.display import Image\n",
    "import pydotplus\n",
    "\n",
    "from sklearn.model_selection import train_test_split\n",
    "from sklearn.model_selection import cross_val_score\n",
    "from sklearn.model_selection import StratifiedKFold\n",
    "\n",
    "from sklearn.metrics import classification_report\n",
    "from sklearn.metrics import confusion_matrix\n",
    "from sklearn.metrics import accuracy_score\n",
    "from sklearn.tree import DecisionTreeClassifier\n",
    "from sklearn import tree"
   ]
  },
  {
   "cell_type": "code",
   "execution_count": 23,
   "metadata": {},
   "outputs": [
    {
     "name": "stdout",
     "output_type": "stream",
     "text": [
      "(150, 5)\n"
     ]
    }
   ],
   "source": [
    "#   abrimos el archivo con el DataSet\n",
    "df = pd.read_csv( \"dataset_61_iris.arff\" )\n",
    "\n",
    "#   Muestro un resumen del numero de filas y columnas del archivo\n",
    "print( df.shape )"
   ]
  },
  {
   "cell_type": "code",
   "execution_count": 24,
   "metadata": {},
   "outputs": [],
   "source": [
    "#   Dividimos el DataSet en 80% para datos de entrenamiento y 20% para test\n",
    "array = df.values\n",
    "x = array[:, 0: 4]\n",
    "y = array[:, 4]\n",
    "X_train, X_validation, Y_train, Y_validation = train_test_split( x, y, test_size = 0.20, random_state = 1 )"
   ]
  },
  {
   "cell_type": "code",
   "execution_count": 25,
   "metadata": {},
   "outputs": [
    {
     "name": "stdout",
     "output_type": "stream",
     "text": [
      "DecisionTreeClassifier()\n"
     ]
    }
   ],
   "source": [
    "#   Realizamos predicciones con el DataSet de validacion\n",
    "model = DecisionTreeClassifier()\n",
    "model.fit( X_train, Y_train )\n",
    "predictions = model.predict( X_validation )\n",
    "\n",
    "print( model )"
   ]
  },
  {
   "cell_type": "code",
   "execution_count": 39,
   "metadata": {},
   "outputs": [],
   "source": [
    "#   Mostramos el arbol gráficamente\n",
    "data = tree.export_graphviz(model\n",
    "                            , out_file = None\n",
    "                            , feature_names = df.columns.values[0:4]\n",
    "                            , class_names = [\"setosa\", \"versicolor\", \"virginica\"]\n",
    "                            , filled = True\n",
    "                            , rounded = True\n",
    "                            , special_characters = True )\n",
    "\n",
    "graph = pydotplus.graph_from_dot_data( data )"
   ]
  }
 ],
 "metadata": {
  "kernelspec": {
   "display_name": "Python 3.10.6 64-bit",
   "language": "python",
   "name": "python3"
  },
  "language_info": {
   "codemirror_mode": {
    "name": "ipython",
    "version": 3
   },
   "file_extension": ".py",
   "mimetype": "text/x-python",
   "name": "python",
   "nbconvert_exporter": "python",
   "pygments_lexer": "ipython3",
   "version": "3.10.6"
  },
  "orig_nbformat": 4,
  "vscode": {
   "interpreter": {
    "hash": "916dbcbb3f70747c44a77c7bcd40155683ae19c65e1c03b4aa3499c5328201f1"
   }
  }
 },
 "nbformat": 4,
 "nbformat_minor": 2
}
